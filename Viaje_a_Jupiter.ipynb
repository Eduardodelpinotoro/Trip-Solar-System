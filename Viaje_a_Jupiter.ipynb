{
  "nbformat": 4,
  "nbformat_minor": 0,
  "metadata": {
    "colab": {
      "provenance": []
    },
    "kernelspec": {
      "name": "python3",
      "display_name": "Python 3"
    },
    "language_info": {
      "name": "python"
    }
  },
  "cells": [
    {
      "cell_type": "code",
      "execution_count": null,
      "metadata": {
        "id": "NLiQx4nDEbk-"
      },
      "outputs": [],
      "source": [
        "#VIAJE A JUPITER\n"
      ]
    },
    {
      "cell_type": "code",
      "source": [
        "#1.IMPORTAR LIBRERIAS\n",
        "import math\n",
        "import sympy as sp\n"
      ],
      "metadata": {
        "id": "cOms4rjlFB9i"
      },
      "execution_count": null,
      "outputs": []
    },
    {
      "cell_type": "code",
      "source": [
        "# DATOS DE LOS PLANETAS Y EL SOL\n",
        "\n",
        "# CONSTANTES EN Kg Y metros\n",
        "\n",
        "UA = 1.496*10**11 # UNIDAD ASTRONOMICA\n",
        "M = 1.98*10**30 # MASA DEL SOL\n",
        "m = 5.97*10**24 # MASA DE LA TIERRA\n",
        "mJ = 1.898*10**27 # MASA DE JUPITER\n",
        "G = 6.67*10**-11 # CONSTANTE GRAVITACIONAL\n",
        "rT = 1.49*10**11 # DISTANCIA DE LA TIERRA AL SOL\n",
        "rJ = 7.78*10**11 # DISTANCIA DE JUPITER AL SOL\n",
        "RT = 6.371*10**6 # RADIO DE LA TIERRA\n",
        "RJ = 6.991*10**7 # RADIO DE JUPITER\n",
        "\n",
        "\n",
        "\n",
        "\n",
        "\n",
        "\n"
      ],
      "metadata": {
        "id": "CRNc7upa6Fe8"
      },
      "execution_count": null,
      "outputs": []
    },
    {
      "cell_type": "code",
      "source": [
        "# CALCULAR LA DISTANCIA APROXIMADA DE LA TIERRA A EUROPA\n",
        "\n",
        "# APLICAR LA FORMULA,DISTACIA EN metros\n",
        "\n",
        "rTJ= rJ + rT\n",
        "\n",
        "rTJ"
      ],
      "metadata": {
        "colab": {
          "base_uri": "https://localhost:8080/"
        },
        "id": "b0PEcyLfmoHQ",
        "outputId": "198085f0-cd5c-4bf3-c3a5-21ad5b98ff0e"
      },
      "execution_count": null,
      "outputs": [
        {
          "output_type": "execute_result",
          "data": {
            "text/plain": [
              "927000000000.0"
            ]
          },
          "metadata": {},
          "execution_count": 82
        }
      ]
    },
    {
      "cell_type": "code",
      "source": [
        "#CALCULAR LA VELOCIDAD DE LA TIERRA EN m/s A PARTIR DE LA FORMULA DE LA LEY GRAVITACIONAL\n",
        "\n",
        "F = G*M/rT**2 # FORMULA LEY GRAVITACIONAL\n",
        "\n",
        "F = rT*vT**2/rT # APLICAR LA ECUACION DE LA DINAMICA DEL MOVIMIENTO CIRCULAR UNIFORME\n",
        "\n",
        "# FUNCION PARA CALCULAR LA FUERZA GRAVITATORIA ENTRE DOS CUERPOS\n",
        "\n",
        "def fuerza_gravitacional(M, m, r):\n",
        "  return G * M * m / r**2\n",
        "\n",
        "# FUNCION PARA CALCULAR EL PERIODO ORBITAL  USANDO LA TERCERA LEY DE KEPLER\n",
        "\n",
        "def periodo_orbital(M, m, r):\n",
        "  return 2 * sp.pi * sp.sqrt(a**3 / (G * M))\n",
        "\n",
        "\n",
        "vT = sp.sqrt(G*M/rT) # DESPEJAR vT PARA CALCULAR LA VELOCIDAD\n",
        "vT\n",
        "\n"
      ],
      "metadata": {
        "colab": {
          "base_uri": "https://localhost:8080/",
          "height": 38
        },
        "id": "57gEhuNJnIjN",
        "outputId": "be4b08d8-e6cc-4f91-952d-6192704c85e2"
      },
      "execution_count": null,
      "outputs": [
        {
          "output_type": "execute_result",
          "data": {
            "text/plain": [
              "29771.6138845141"
            ],
            "text/latex": "$\\displaystyle 29771.6138845141$"
          },
          "metadata": {},
          "execution_count": 42
        }
      ]
    },
    {
      "cell_type": "code",
      "source": [
        "#CALCULAR LA VELOCIDAD DE JUPITER EN m/s\n",
        "\n",
        "vJ = sp.sqrt(G*M/rJ)\n",
        "vJ"
      ],
      "metadata": {
        "colab": {
          "base_uri": "https://localhost:8080/",
          "height": 38
        },
        "id": "w6oQELeboL2q",
        "outputId": "ad45df90-ccb9-42d1-d846-79f3b84802b4"
      },
      "execution_count": null,
      "outputs": [
        {
          "output_type": "execute_result",
          "data": {
            "text/plain": [
              "13028.8388843182"
            ],
            "text/latex": "$\\displaystyle 13028.8388843182$"
          },
          "metadata": {},
          "execution_count": 27
        }
      ]
    },
    {
      "cell_type": "code",
      "source": [
        "# CONOCIDAS LAS VELOCIDADES DE LOS PLANETAS PODEMOS DETERMINAR LA VELOCIDAD DE LA NAVE EN EL PERIHELIO Y EN EL AFELIO DE LA ORBITA QUE DESCRIBE SU TRAYECTORIA"
      ],
      "metadata": {
        "id": "qzpYpdk1Yett"
      },
      "execution_count": null,
      "outputs": []
    },
    {
      "cell_type": "code",
      "source": [
        "# CALCULAR LA VELOCIDAD DE LA NAVE EN EL PERIHELIO ENTRE LA TIERRA Y JUPITER\n",
        "\n",
        "vperihelioT = sp.sqrt(2*G*M*rJ/(rT*(rT+rJ)))\n",
        "vperihelioT"
      ],
      "metadata": {
        "colab": {
          "base_uri": "https://localhost:8080/",
          "height": 38
        },
        "id": "CNexrF7uRDUF",
        "outputId": "aed5af17-ba6c-4414-e0fa-330cca2f69e1"
      },
      "execution_count": null,
      "outputs": [
        {
          "output_type": "execute_result",
          "data": {
            "text/plain": [
              "38571.5691635981"
            ],
            "text/latex": "$\\displaystyle 38571.5691635981$"
          },
          "metadata": {},
          "execution_count": 23
        }
      ]
    },
    {
      "cell_type": "code",
      "source": [
        "# CALCULAR LA VELOCIDAD DE LA NAVE EN EL AFELIO\n",
        "\n",
        "vafelioJ = sp.sqrt(2*G*M*rT/(rJ*(rJ+rT)))\n",
        "vafelioJ"
      ],
      "metadata": {
        "colab": {
          "base_uri": "https://localhost:8080/",
          "height": 38
        },
        "id": "HisEnlM1Y7gy",
        "outputId": "c682d464-0d79-45dc-c50d-1208ee9fdcb1"
      },
      "execution_count": null,
      "outputs": [
        {
          "output_type": "execute_result",
          "data": {
            "text/plain": [
              "7387.10000691017"
            ],
            "text/latex": "$\\displaystyle 7387.10000691017$"
          },
          "metadata": {},
          "execution_count": 20
        }
      ]
    },
    {
      "cell_type": "code",
      "source": [
        "#CALCULAR EL SEMIEJE MAYOR DE LA ORBITA ELIPTICA DE LA NAVE tierra-jupiter\n",
        "\n",
        "a = (rT+rJ)/2\n",
        "a"
      ],
      "metadata": {
        "colab": {
          "base_uri": "https://localhost:8080/"
        },
        "id": "Fep_b1LhZ2Dp",
        "outputId": "44134686-353c-4e2e-f56b-a7f744de71c7"
      },
      "execution_count": null,
      "outputs": [
        {
          "output_type": "execute_result",
          "data": {
            "text/plain": [
              "463500000000.0"
            ]
          },
          "metadata": {},
          "execution_count": 84
        }
      ]
    },
    {
      "cell_type": "code",
      "source": [
        "# CALCULAR LA EXCENTRICIDAD, CUANTO MAS CERCA RESULTE DEL 1 MAS EXCENTRICA ES LA ELIPSE Y CUANTO MAS CERCA DEL 0 MAS PARECIDA A UNA CIRCUNFERENCIA\n",
        "\n",
        "excentricidad = (rJ-rT)/(rT+rJ)\n",
        "excentricidad"
      ],
      "metadata": {
        "colab": {
          "base_uri": "https://localhost:8080/"
        },
        "id": "wrR5Muuhb_Lj",
        "outputId": "82632664-fca2-4e03-88f1-ecf09da91f4e"
      },
      "execution_count": null,
      "outputs": [
        {
          "output_type": "execute_result",
          "data": {
            "text/plain": [
              "0.6785329018338727"
            ]
          },
          "metadata": {},
          "execution_count": 85
        }
      ]
    },
    {
      "cell_type": "code",
      "source": [
        "# CALCULAR EL INCREMENTO DE VELOCIDAD NECESARIO PARA LANZAR LA NAVE DESDE LAS PROXIMIDADES DE LA TIERRA PARA LLEGAR A JUPITER\n",
        "\n",
        "vnave = vperihelioT - vT\n",
        "vnave"
      ],
      "metadata": {
        "colab": {
          "base_uri": "https://localhost:8080/",
          "height": 38
        },
        "id": "bIC4UfSiczqp",
        "outputId": "d7b0458c-7f66-4efc-fbca-6df3deed9f98"
      },
      "execution_count": null,
      "outputs": [
        {
          "output_type": "execute_result",
          "data": {
            "text/plain": [
              "8799.95527908401"
            ],
            "text/latex": "$\\displaystyle 8799.95527908401$"
          },
          "metadata": {},
          "execution_count": 25
        }
      ]
    },
    {
      "cell_type": "code",
      "source": [],
      "metadata": {
        "id": "r1jdXG-VanET"
      },
      "execution_count": null,
      "outputs": []
    },
    {
      "cell_type": "code",
      "source": [
        "# CALCULAR LA DISMINUCION DE VELOCIDAD NECESARIA PARA LANZAR LA NAVE DE REGRESO A LA TIERRA DESDE JUPITER\n",
        "\n",
        "vregresoJ = vafelioJ - vJ\n",
        "vregresoJ"
      ],
      "metadata": {
        "colab": {
          "base_uri": "https://localhost:8080/",
          "height": 38
        },
        "id": "obyqUIh1fqwW",
        "outputId": "db271b0c-91f8-492e-fb74-b732c1bb482c"
      },
      "execution_count": null,
      "outputs": [
        {
          "output_type": "execute_result",
          "data": {
            "text/plain": [
              "-5641.73887740803"
            ],
            "text/latex": "$\\displaystyle -5641.73887740803$"
          },
          "metadata": {},
          "execution_count": 29
        }
      ]
    },
    {
      "cell_type": "code",
      "source": [
        "# CALCULAR EL PERIODO ORBITAL DE LA NAVE (IDA Y VUELTA ENTRE LA TIERRA Y JUPITER)\n",
        "\n",
        "T_cuadrado = (4 * sp.pi**2 * a**3) / (G * M)\n",
        "\n",
        "T = sp.sqrt(T_cuadrado)\n",
        "\n",
        "T_simplificada = sp.simplify(T)\n",
        "\n",
        "\n",
        "\n",
        "T_evaluado = T.evalf(subs={a: a, G: G, M: M})\n",
        "\n",
        "T_evaluado_dias = T_evaluado/(24*60*60)\n",
        "\n",
        "T_evaluado_dias"
      ],
      "metadata": {
        "colab": {
          "base_uri": "https://localhost:8080/",
          "height": 37
        },
        "id": "ovWCBeEfhIUa",
        "outputId": "683396c4-d34f-48bd-bb1d-608343c76cd3"
      },
      "execution_count": null,
      "outputs": [
        {
          "output_type": "execute_result",
          "data": {
            "text/plain": [
              "2000.40429945183"
            ],
            "text/latex": "$\\displaystyle 2000.40429945183$"
          },
          "metadata": {},
          "execution_count": 100
        }
      ]
    },
    {
      "cell_type": "code",
      "source": [
        "# DETERMINAR LAS POSICIONES DE LOS PLANETAS EN EL MOMENTO DEL LANZAMIENTO DE LA NAVE\n",
        "\n",
        "# VIAJE DE IDA\n",
        "\n",
        "T_Jupiter = 4332.59\n",
        "\n",
        "# CALCULAR EL DESPLAZAMIENTO ANGULAR DE JUPITER EN RADIANES\n",
        "\n",
        "theta = (2*sp.pi*T_evaluado_dias/2)/T_Jupiter\n",
        "theta_evaluado = theta.evalf()\n",
        "theta"
      ],
      "metadata": {
        "colab": {
          "base_uri": "https://localhost:8080/",
          "height": 38
        },
        "id": "VHLMp9LyCnLG",
        "outputId": "87f8a7ec-a541-49ad-d7eb-61ada2a1a995"
      },
      "execution_count": null,
      "outputs": [
        {
          "output_type": "execute_result",
          "data": {
            "text/plain": [
              "0.461710962600161*pi"
            ],
            "text/latex": "$\\displaystyle 0.461710962600161 \\pi$"
          },
          "metadata": {},
          "execution_count": 103
        }
      ]
    },
    {
      "cell_type": "code",
      "source": [
        "# PASAR A GRADOS\n",
        "\n",
        "rad = 572958\n",
        "\n",
        "grados = theta_evaluado*rad\n",
        "grados"
      ],
      "metadata": {
        "colab": {
          "base_uri": "https://localhost:8080/",
          "height": 37
        },
        "id": "e9-WLIq_g5IW",
        "outputId": "e95751d0-111a-4b6f-ceec-13e6b3e4689e"
      },
      "execution_count": null,
      "outputs": [
        {
          "output_type": "execute_result",
          "data": {
            "text/plain": [
              "831080.029844622"
            ],
            "text/latex": "$\\displaystyle 831080.029844622$"
          },
          "metadata": {},
          "execution_count": 104
        }
      ]
    },
    {
      "cell_type": "code",
      "source": [
        "import math\n",
        "\n",
        "# Constantes\n",
        "G = 6.67e-11  # Constante de gravitación universal en N·m²/kg²\n",
        "M_Sol = 1.989e30  # Masa del Sol en kg\n",
        "r_Tierra_Sol = 1.496e11  # Distancia Tierra-Sol en metros\n",
        "r_Jupiter_Sol = 7.785e11  # Distancia Júpiter-Sol en metros\n",
        "\n",
        "# Períodos orbitales en días\n",
        "T_Tierra = 365.25  # Período orbital de la Tierra en días\n",
        "T_Jupiter = 4332.59  # Período orbital de Júpiter en días\n",
        "\n",
        "# Cálculo del periodo sinódico entre la Tierra y Júpiter\n",
        "S = 1 / abs((1 / T_Tierra) - (1 / T_Jupiter))  # En días\n",
        "\n",
        "# Calculamos el ángulo de Júpiter con respecto a la Tierra (aproximadamente 60 grados adelante)\n",
        "angulo_jupiter = 60  # grados\n",
        "\n",
        "# Función para convertir grados a radianes\n",
        "def grados_a_radianes(grados):\n",
        "    return grados * (math.pi / 180)\n",
        "\n",
        "# Convertimos los grados a radianes\n",
        "angulo_jupiter_rad = grados_a_radianes(angulo_jupiter)\n",
        "\n",
        "# Distancia entre la Tierra y Júpiter (en km)\n",
        "distancia_Tierra_Jupiter = r_Jupiter_Sol - r_Tierra_Sol\n",
        "\n",
        "# Mostramos los resultados\n",
        "print(f\"Periodo sinódico entre la Tierra y Júpiter: {S:.2f} días\")\n",
        "print(f\"Ángulo de Júpiter respecto a la Tierra en grados: {angulo_jupiter}\")\n",
        "print(f\"Ángulo de Júpiter respecto a la Tierra en radianes: {angulo_jupiter_rad:.2f} rad\")\n",
        "print(f\"Distancia entre la Tierra y Júpiter: {distancia_Tierra_Jupiter/1e9:.2f} millones de km\")\n"
      ],
      "metadata": {
        "colab": {
          "base_uri": "https://localhost:8080/"
        },
        "id": "NhY5rGYnjmA_",
        "outputId": "8df51cac-34fc-4036-c791-772e2e9884c0"
      },
      "execution_count": null,
      "outputs": [
        {
          "output_type": "stream",
          "name": "stdout",
          "text": [
            "Periodo sinódico entre la Tierra y Júpiter: 398.88 días\n",
            "Ángulo de Júpiter respecto a la Tierra en grados: 60\n",
            "Ángulo de Júpiter respecto a la Tierra en radianes: 1.05 rad\n",
            "Distancia entre la Tierra y Júpiter: 628.90 millones de km\n"
          ]
        }
      ]
    },
    {
      "cell_type": "code",
      "source": [
        "import math\n",
        "\n",
        "# Constantes\n",
        "G = 6.67e-11  # Constante de gravitación universal en N·m²/kg²\n",
        "M_Sol = 1.989e30  # Masa del Sol en kg\n",
        "T_Tierra = 365.25  # Período orbital de la Tierra en días\n",
        "T_Jupiter = 4332.59  # Período orbital de Júpiter en días\n",
        "r_Tierra_Sol = 1.496e11  # Distancia Tierra-Sol en metros\n",
        "r_Jupiter_Sol = 7.785e11  # Distancia Júpiter-Sol en metros\n",
        "\n",
        "# Parte 1: Cálculo del período sinódico (en días)\n",
        "S = 1 / abs((1 / T_Tierra) - (1 / T_Jupiter))\n",
        "\n",
        "# Tiempo para que Júpiter esté a 60 grados de la Tierra (1/6 del período sinódico)\n",
        "t_angulo = S / 6\n",
        "\n",
        "# Parte 2: Cálculo del tiempo de viaje de ida (transferencia de Hohmann)\n",
        "# Semieje mayor de la órbita elíptica de la nave (media de las distancias Tierra-Sol y Júpiter-Sol)\n",
        "a_transferencia = (r_Tierra_Sol + r_Jupiter_Sol) / 2\n",
        "\n",
        "# Período orbital de la transferencia de Hohmann en segundos\n",
        "T_transferencia = 2 * math.pi * math.sqrt(a_transferencia**3 / (G * M_Sol))\n",
        "\n",
        "# Convertimos el tiempo de la transferencia de Hohmann a días\n",
        "T_transferencia_dias = T_transferencia / (60 * 60 * 24)\n",
        "\n",
        "# El viaje de ida toma la mitad del período de transferencia\n",
        "viaje_ida = T_transferencia_dias / 2\n",
        "\n",
        "# Duración total del viaje (ida y vuelta)\n",
        "duracion_total = viaje_ida * 2\n",
        "\n",
        "# Mostramos los resultados\n",
        "print(f\"Tiempo para que Júpiter esté a 60 grados: {t_angulo:.2f} días\")\n",
        "print(f\"Duración del viaje de ida a Júpiter: {viaje_ida:.2f} días\")\n",
        "print(f\"Duración total del viaje (ida y vuelta): {duracion_total:.2f} días\")\n"
      ],
      "metadata": {
        "id": "ud_Fd_wNnh6_",
        "outputId": "ed76f414-6fa8-4959-9ede-2dd14cb1b093",
        "colab": {
          "base_uri": "https://localhost:8080/"
        }
      },
      "execution_count": null,
      "outputs": [
        {
          "output_type": "stream",
          "name": "stdout",
          "text": [
            "Tiempo para que Júpiter esté a 60 grados: 66.48 días\n",
            "Duración del viaje de ida a Júpiter: 997.94 días\n",
            "Duración total del viaje (ida y vuelta): 1995.87 días\n"
          ]
        }
      ]
    },
    {
      "cell_type": "code",
      "source": [
        "import math\n",
        "\n",
        "# Constante de gravitación universal\n",
        "G = 6.67e-11  # N·m²/kg²\n",
        "\n",
        "# Datos de la Tierra\n",
        "M_Tierra = 5.972e24  # Masa de la Tierra en kg\n",
        "r_Tierra = 6.371e6  # Radio de la Tierra en metros\n",
        "\n",
        "# Datos de Júpiter\n",
        "M_Jupiter = 1.898e27  # Masa de Júpiter en kg\n",
        "r_Jupiter = 7.149e7  # Radio de Júpiter en metros\n",
        "\n",
        "# Función para calcular la velocidad de escape\n",
        "def velocidad_escape(M, r):\n",
        "    return math.sqrt(2 * G * M / r)\n",
        "\n",
        "# Cálculo de la velocidad de escape en la Tierra y Júpiter\n",
        "v_escape_Tierra = velocidad_escape(M_Tierra, r_Tierra)\n",
        "v_escape_Jupiter = velocidad_escape(M_Jupiter, r_Jupiter)\n",
        "\n",
        "# Mostrar los resultados\n",
        "print(f\"Velocidad de escape en la Tierra: {v_escape_Tierra:.2f} m/s\")\n",
        "print(f\"Velocidad de escape en Júpiter: {v_escape_Jupiter:.2f} m/s\")\n"
      ],
      "metadata": {
        "colab": {
          "base_uri": "https://localhost:8080/"
        },
        "id": "soQORuZmppvd",
        "outputId": "20836de5-090d-412e-8844-7381df784a86"
      },
      "execution_count": null,
      "outputs": [
        {
          "output_type": "stream",
          "name": "stdout",
          "text": [
            "Velocidad de escape en la Tierra: 11182.37 m/s\n",
            "Velocidad de escape en Júpiter: 59511.84 m/s\n"
          ]
        }
      ]
    },
    {
      "cell_type": "code",
      "source": [
        "import math\n",
        "\n",
        "# Constantes\n",
        "G = 6.67e-11  # Constante de gravitación universal en N·m²/kg²\n",
        "M_Sol = 1.989e30  # Masa del Sol en kg\n",
        "M_Tierra = 5.972e24  # Masa de la Tierra en kg\n",
        "M_Jupiter = 1.898e27  # Masa de Júpiter en kg\n",
        "r_Tierra_Sol = 1.496e11  # Distancia Tierra-Sol en metros\n",
        "r_Jupiter_Sol = 7.785e11  # Distancia Júpiter-Sol en metros\n",
        "r_Tierra = 6.371e6  # Radio de la Tierra en metros\n",
        "r_Jupiter = 7.149e7  # Radio de Júpiter en metros\n",
        "\n",
        "# Datos de la nave\n",
        "m_nave = 1000  # Masa de la nave en kg (ejemplo)\n",
        "\n",
        "# Función para calcular la energía potencial\n",
        "def energia_potencial_gravitacional(M, m, r):\n",
        "    return -G * M * m / r\n",
        "\n",
        "# Función para calcular la energía cinética\n",
        "def energia_cinetica(m, v):\n",
        "    return 0.5 * m * v**2\n",
        "\n",
        "# Función para calcular la velocidad de escape\n",
        "def velocidad_escape(M, r):\n",
        "    return math.sqrt(2 * G * M / r)\n",
        "\n",
        "# 1. Energía en el lanzamiento desde la Tierra\n",
        "v_escape_Tierra = velocidad_escape(M_Tierra, r_Tierra)\n",
        "E_k_Tierra = energia_cinetica(m_nave, v_escape_Tierra)\n",
        "E_p_Tierra = energia_potencial_gravitacional(M_Tierra, m_nave, r_Tierra)\n",
        "E_total_Tierra = E_k_Tierra + E_p_Tierra\n",
        "\n",
        "# 2. Energía necesaria para llegar a Júpiter (Trayectoria interplanetaria)\n",
        "v_escape_Jupiter = velocidad_escape(M_Jupiter, r_Jupiter)\n",
        "E_p_Jupiter = energia_potencial_gravitacional(M_Jupiter, m_nave, r_Jupiter)\n",
        "\n",
        "# 3. Energía para volver a la Tierra (trayecto de vuelta similar)\n",
        "E_total_Jupiter = energia_cinetica(m_nave, v_escape_Jupiter) + E_p_Jupiter\n",
        "\n",
        "# Energía total para el viaje completo (ida y vuelta)\n",
        "energia_total_viaje = E_total_Tierra + E_total_Jupiter\n",
        "\n",
        "# Mostramos los resultados\n",
        "print(f\"Energía total en el lanzamiento desde la Tierra: {E_total_Tierra:.2e} J\")\n",
        "print(f\"Energía total necesaria para llegar a Júpiter: {E_total_Jupiter:.2e} J\")\n",
        "print(f\"Energía total necesaria para el viaje completo (ida y vuelta): {energia_total_viaje:.2e} J\")\n"
      ],
      "metadata": {
        "colab": {
          "base_uri": "https://localhost:8080/"
        },
        "id": "GltI8GMMspnS",
        "outputId": "5fd83d27-934e-4f12-fa6b-e6c9505be848"
      },
      "execution_count": null,
      "outputs": [
        {
          "output_type": "stream",
          "name": "stdout",
          "text": [
            "Energía total en el lanzamiento desde la Tierra: 7.63e-06 J\n",
            "Energía total necesaria para llegar a Júpiter: 0.00e+00 J\n",
            "Energía total necesaria para el viaje completo (ida y vuelta): 7.63e-06 J\n"
          ]
        }
      ]
    }
  ]
}