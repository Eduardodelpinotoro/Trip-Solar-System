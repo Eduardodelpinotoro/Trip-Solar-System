{
  "nbformat": 4,
  "nbformat_minor": 0,
  "metadata": {
    "colab": {
      "provenance": []
    },
    "kernelspec": {
      "name": "python3",
      "display_name": "Python 3"
    },
    "language_info": {
      "name": "python"
    }
  },
  "cells": [
    {
      "cell_type": "code",
      "source": [
        "import sympy as sp\n",
        "import math"
      ],
      "metadata": {
        "id": "VZTHKUKX8XXK"
      },
      "execution_count": null,
      "outputs": []
    },
    {
      "cell_type": "code",
      "source": [
        "from sympy import symbols, Eq, sqrt, pi, init_printing\n",
        "from sympy.physics.units import G\n",
        "\n",
        "# Inicializamos la impresión en formato LaTeX\n",
        "init_printing(use_latex=True)\n",
        "\n",
        "# Definimos las variables simbólicas\n",
        "M1, M2, r, T, a, M = symbols('M1 M2 r T a M')\n",
        "v = symbols('v')  # Velocidad de escape\n",
        "\n",
        "# 1. Ley de Gravitación Universal\n",
        "fuerza_gravitacional = Eq(symbols('F'), G * M1 * M2 / r**2)\n",
        "display(fuerza_gravitacional)\n",
        "\n",
        "# 2. Tercera Ley de Kepler\n",
        "kepler_tercera_ley = Eq(T**2, (4 * pi**2 * a**3) / (G * M))\n",
        "display(kepler_tercera_ley)\n",
        "\n",
        "# 3. Velocidad de escape\n",
        "velocidad_escape = Eq(v, sqrt(2 * G * M / r))\n",
        "display(velocidad_escape)\n",
        "\n",
        "# 4. Aceleración gravitacional\n",
        "aceleracion_gravitacional = Eq(symbols('a'), G * M / r**2)\n",
        "display(aceleracion_gravitacional)\n"
      ],
      "metadata": {
        "id": "_d6e1YjTAM9R",
        "outputId": "9b33fc1a-1c6f-4762-f961-ba5b2a474c3e",
        "colab": {
          "base_uri": "https://localhost:8080/",
          "height": 165
        }
      },
      "execution_count": null,
      "outputs": [
        {
          "output_type": "display_data",
          "data": {
            "text/plain": [
              "    M₁⋅M₂⋅gravitational_constant\n",
              "F = ────────────────────────────\n",
              "                  2             \n",
              "                 r              "
            ],
            "text/latex": "$\\displaystyle F = \\frac{M_{1} M_{2} \\text{G}}{r^{2}}$"
          },
          "metadata": {}
        },
        {
          "output_type": "display_data",
          "data": {
            "text/plain": [
              "                2  3         \n",
              " 2           4⋅π ⋅a          \n",
              "T  = ────────────────────────\n",
              "     M⋅gravitational_constant"
            ],
            "text/latex": "$\\displaystyle T^{2} = \\frac{4 \\pi^{2} a^{3}}{M \\text{G}}$"
          },
          "metadata": {}
        },
        {
          "output_type": "display_data",
          "data": {
            "text/plain": [
              "           ___                           \n",
              "          ╱ M    ________________________\n",
              "v = √2⋅  ╱  ─ ⋅╲╱ gravitational_constant \n",
              "       ╲╱   r                            "
            ],
            "text/latex": "$\\displaystyle v = \\sqrt{2} \\sqrt{\\frac{M}{r}} \\sqrt{\\text{G}}$"
          },
          "metadata": {}
        },
        {
          "output_type": "display_data",
          "data": {
            "text/plain": [
              "    M⋅gravitational_constant\n",
              "a = ────────────────────────\n",
              "                2           \n",
              "               r            "
            ],
            "text/latex": "$\\displaystyle a = \\frac{M \\text{G}}{r^{2}}$"
          },
          "metadata": {}
        }
      ]
    },
    {
      "cell_type": "code",
      "source": [
        "#calcular velocidad de los planetas a partir de la formula ley gravitacional universal\n",
        "\n",
        "M = 1.98*10**30\n",
        "m = 5.97*10**24\n",
        "G = 6.67*10**-11\n",
        "rt = 1.49*10**11\n",
        "rm = 2.28*10**11\n",
        "\n",
        "distancia_venus =\n",
        "\n",
        "\n"
      ],
      "metadata": {
        "id": "CRNc7upa6Fe8"
      },
      "execution_count": null,
      "outputs": []
    },
    {
      "cell_type": "code",
      "source": [
        "rt+rm"
      ],
      "metadata": {
        "colab": {
          "base_uri": "https://localhost:8080/",
          "height": 37
        },
        "id": "403HDnpx-1zu",
        "outputId": "74a0951a-7688-4d84-972e-1bc4824f38a8"
      },
      "execution_count": null,
      "outputs": [
        {
          "output_type": "execute_result",
          "data": {
            "text/plain": [
              "377000000000.0"
            ],
            "text/latex": "$\\displaystyle 377000000000.0$"
          },
          "metadata": {},
          "execution_count": 16
        }
      ]
    },
    {
      "cell_type": "code",
      "source": [
        "#velocidad de la tierra en m/s\n",
        "\n",
        "vt = math.sqrt(G*M/rt)\n",
        "\n",
        "vt\n"
      ],
      "metadata": {
        "colab": {
          "base_uri": "https://localhost:8080/",
          "height": 37
        },
        "id": "I1Z-2xcF7AFT",
        "outputId": "406ccd51-312d-4c06-c2ea-3943cf2a614e"
      },
      "execution_count": null,
      "outputs": [
        {
          "output_type": "execute_result",
          "data": {
            "text/plain": [
              "29771.613884514063"
            ],
            "text/latex": "$\\displaystyle 29771.6138845141$"
          },
          "metadata": {},
          "execution_count": 5
        }
      ]
    },
    {
      "cell_type": "code",
      "source": [
        "#velocidad de marte en m/s\n",
        "\n",
        "vm = math.sqrt(G*M/rm)\n",
        "vm"
      ],
      "metadata": {
        "colab": {
          "base_uri": "https://localhost:8080/",
          "height": 37
        },
        "id": "Qi4zZCfr8JI6",
        "outputId": "afa5306e-e38d-4605-8776-7e89608ea79b"
      },
      "execution_count": null,
      "outputs": [
        {
          "output_type": "execute_result",
          "data": {
            "text/plain": [
              "24067.339738850726"
            ],
            "text/latex": "$\\displaystyle 24067.3397388507$"
          },
          "metadata": {},
          "execution_count": 6
        }
      ]
    },
    {
      "cell_type": "code",
      "source": [
        "#calcula velocidad de la nave perihelio y afelio en m/ s\n",
        "vperihelio = sp.sqrt(2*G*M*rm/(rt*(rt+rm)))\n",
        "vperihelio"
      ],
      "metadata": {
        "colab": {
          "base_uri": "https://localhost:8080/",
          "height": 37
        },
        "id": "Lbpfxx0pBYlp",
        "outputId": "769103c4-a8fe-42ce-c873-d47552498997"
      },
      "execution_count": null,
      "outputs": [
        {
          "output_type": "execute_result",
          "data": {
            "text/plain": [
              "32742.6724926631"
            ],
            "text/latex": "$\\displaystyle 32742.6724926631$"
          },
          "metadata": {},
          "execution_count": 7
        }
      ]
    },
    {
      "cell_type": "code",
      "source": [
        "vafelio = math.sqrt(2*G*M*rt/(rm*(rm+rt)))\n",
        "vafelio"
      ],
      "metadata": {
        "colab": {
          "base_uri": "https://localhost:8080/",
          "height": 37
        },
        "id": "ludLd4OVEwno",
        "outputId": "a9a57b4e-14e4-4b8e-8953-cba67e17c69b"
      },
      "execution_count": null,
      "outputs": [
        {
          "output_type": "execute_result",
          "data": {
            "text/plain": [
              "21397.62369038071"
            ],
            "text/latex": "$\\displaystyle 21397.6236903807$"
          },
          "metadata": {},
          "execution_count": 8
        }
      ]
    },
    {
      "cell_type": "code",
      "source": [
        "\n",
        "#calcular el semieje mayor de la orbita eliptica de la nave para luego determinar el periodo\n",
        "a = (rt+rm)/2\n",
        "a\n"
      ],
      "metadata": {
        "colab": {
          "base_uri": "https://localhost:8080/",
          "height": 37
        },
        "id": "tsmIhZ4CKyvE",
        "outputId": "f8da4789-b69f-45d1-af8e-d3afef3b15bd"
      },
      "execution_count": null,
      "outputs": [
        {
          "output_type": "execute_result",
          "data": {
            "text/plain": [
              "188500000000.0"
            ],
            "text/latex": "$\\displaystyle 188500000000.0$"
          },
          "metadata": {},
          "execution_count": 9
        }
      ]
    },
    {
      "cell_type": "code",
      "source": [
        "#cuanto mas cerca del 0 mas circunferencia cuanto mas cerca del 1 mas excentrica es la elipse\n",
        "excentricidad = (rm-rt)/(rt+rm)\n",
        "excentricidad"
      ],
      "metadata": {
        "colab": {
          "base_uri": "https://localhost:8080/",
          "height": 37
        },
        "id": "Q2_6iv4MMfGa",
        "outputId": "d186586d-4f37-4c97-bd17-a7cc2d75810d"
      },
      "execution_count": null,
      "outputs": [
        {
          "output_type": "execute_result",
          "data": {
            "text/plain": [
              "0.20954907161803704"
            ],
            "text/latex": "$\\displaystyle 0.209549071618037$"
          },
          "metadata": {},
          "execution_count": 10
        }
      ]
    },
    {
      "cell_type": "code",
      "source": [
        "#Cuando se lanza la nave espacial desde las proximidades del planeta Tierra y en la dirección de su movimiento orbital, hemos de incrementar la velocidad de la nave en\n",
        "vnave = (vperihelio-vt)\n",
        "vnave\n",
        "\n",
        "# en m/s\n"
      ],
      "metadata": {
        "colab": {
          "base_uri": "https://localhost:8080/",
          "height": 37
        },
        "id": "mkAUM5apN7fu",
        "outputId": "150ec889-382b-4adb-bc3f-649132a01ce1"
      },
      "execution_count": null,
      "outputs": [
        {
          "output_type": "execute_result",
          "data": {
            "text/plain": [
              "2971.05860814903"
            ],
            "text/latex": "$\\displaystyle 2971.05860814903$"
          },
          "metadata": {},
          "execution_count": 11
        }
      ]
    },
    {
      "cell_type": "code",
      "source": [
        "#disminuir la velocidad para regresar a la tierra m/s\n",
        "\n",
        "vafelio-vm"
      ],
      "metadata": {
        "colab": {
          "base_uri": "https://localhost:8080/",
          "height": 37
        },
        "id": "xIEkn2qJ1jdC",
        "outputId": "a1c856ee-cf69-48b9-f66a-d090bfd6c662"
      },
      "execution_count": null,
      "outputs": [
        {
          "output_type": "execute_result",
          "data": {
            "text/plain": [
              "-2669.7160484700144"
            ],
            "text/latex": "$\\displaystyle -2669.71604847001$"
          },
          "metadata": {},
          "execution_count": 12
        }
      ]
    },
    {
      "cell_type": "code",
      "source": [
        "#calcular el periodo de la nave viaje de ida y vuelta\n",
        "# Definimos las variables simbólicas\n",
        "G, M, a = sp.symbols('G M a')\n",
        "\n",
        "# Fórmula para el periodo al cuadrado\n",
        "T_cuadrado = (4 * sp.pi**2 * a**3) / (G * M)\n",
        "\n",
        "# Sacamos la raíz cuadrada para obtener el periodo\n",
        "T = sp.sqrt(T_cuadrado)\n",
        "\n",
        "# Mostramos la fórmula simbólica del periodo\n",
        "T_simplificada = sp.simplify(T)\n",
        "print(f\"Fórmula del periodo orbital: {T_simplificada}\")\n",
        "\n",
        "# Sustitución de valores conocidos\n",
        "a_valor = 1.885e11  # semieje mayor en metros\n",
        "G_valor = 6.67430e-11  # constante de gravitación universal en m^3 kg^-1 s^-2\n",
        "M_valor = 1.989e30  # masa del Sol en kg\n",
        "\n",
        "# Evaluamos el periodo con los valores numéricos\n",
        "T_evaluado = T.evalf(subs={a: a_valor, G: G_valor, M: M_valor})\n",
        "\n",
        "print(f\"El periodo orbital es {T_evaluado} segundos\")\n",
        "T_evaluado_dias = T_evaluado/(24*60*60)\n",
        "T_evaluado_dias/2\n",
        "#258 dias biaje de ida y otros 258 viaje de vuelta"
      ],
      "metadata": {
        "colab": {
          "base_uri": "https://localhost:8080/",
          "height": 73
        },
        "id": "aX7cfyBq8l0R",
        "outputId": "39f27981-ebda-468f-c8fd-26b5000d7527"
      },
      "execution_count": null,
      "outputs": [
        {
          "output_type": "stream",
          "name": "stdout",
          "text": [
            "Fórmula del periodo orbital: 2*pi*sqrt(a**3/(G*M))\n",
            "El periodo orbital es 44629975.3303099 segundos\n"
          ]
        },
        {
          "output_type": "execute_result",
          "data": {
            "text/plain": [
              "258.275320198552"
            ],
            "text/latex": "$\\displaystyle 258.275320198552$"
          },
          "metadata": {},
          "execution_count": 13
        }
      ]
    },
    {
      "cell_type": "code",
      "source": [
        "#determinar las posiciones de los planetas en el momento del lanzamiento de la nave espacial\n",
        "\n",
        "#viaje de ida\n",
        "T_marte = 687\n",
        "#calcular el desplazamiento angular de marte en radianes pasar a grados\n",
        "\n",
        "theta = (2*sp.pi*T_evaluado_dias/2)/T_marte\n",
        "theta_evaluado = theta.evalf()\n",
        "theta_evaluado\n",
        "\n",
        "\n"
      ],
      "metadata": {
        "colab": {
          "base_uri": "https://localhost:8080/",
          "height": 37
        },
        "id": "r3k_MBfEAFUf",
        "outputId": "e4225806-146d-44b7-9e2f-313ed58c416b"
      },
      "execution_count": null,
      "outputs": [
        {
          "output_type": "execute_result",
          "data": {
            "text/plain": [
              "2.36214220826586"
            ],
            "text/latex": "$\\displaystyle 2.36214220826586$"
          },
          "metadata": {},
          "execution_count": 38
        }
      ]
    },
    {
      "cell_type": "code",
      "source": [
        "#pasar a grados\n",
        "rad = 572958\n",
        "grados = theta_evaluado*rad\n",
        "grados\n",
        "\n",
        "# 135 grados"
      ],
      "metadata": {
        "colab": {
          "base_uri": "https://localhost:8080/",
          "height": 37
        },
        "id": "As4pit92G3cP",
        "outputId": "3112936b-5b6b-4c66-fa10-d475114f3099"
      },
      "execution_count": null,
      "outputs": [
        {
          "output_type": "execute_result",
          "data": {
            "text/plain": [
              "1353408.27536359"
            ],
            "text/latex": "$\\displaystyle 1353408.27536359$"
          },
          "metadata": {},
          "execution_count": 39
        }
      ]
    },
    {
      "cell_type": "code",
      "source": [
        "#como la velocidad angular de marte es menor debe de estar por delante de la tierra en el momento del despegue\n",
        "#calcular los grados que tiene que ir marte por delante de la tierra\n",
        "Posm = 180-135.3\n",
        "Posm"
      ],
      "metadata": {
        "colab": {
          "base_uri": "https://localhost:8080/"
        },
        "id": "O3XgkD9jI6Tt",
        "outputId": "9351b7b3-7dac-4908-ab0a-ea49668793ba"
      },
      "execution_count": null,
      "outputs": [
        {
          "output_type": "execute_result",
          "data": {
            "text/plain": [
              "44.69999999999999"
            ]
          },
          "metadata": {},
          "execution_count": 40
        }
      ]
    },
    {
      "cell_type": "code",
      "source": [
        "#viaje de vuelta(desplazamiento angular de la tierra durante el recorrido de la nave)\n",
        "T_tierra = 365\n",
        "\n",
        "theta_tierra = (2*sp.pi*T_evaluado_dias/2)/T_tierra\n",
        "theta_tierra_evaluado = theta_tierra.evalf()\n",
        "theta_tierra_evaluado\n"
      ],
      "metadata": {
        "colab": {
          "base_uri": "https://localhost:8080/",
          "height": 37
        },
        "id": "UYjvj7M2KGdy",
        "outputId": "6bf7d1c3-ec0b-45d2-f6d8-e5763ff2f955"
      },
      "execution_count": null,
      "outputs": [
        {
          "output_type": "execute_result",
          "data": {
            "text/plain": [
              "4.44600464953054"
            ],
            "text/latex": "$\\displaystyle 4.44600464953054$"
          },
          "metadata": {},
          "execution_count": 41
        }
      ]
    },
    {
      "cell_type": "code",
      "source": [
        "#pasar agrados\n",
        "rad = 572958\n",
        "grados_tierra = theta_tierra_evaluado*rad\n",
        "grados_tierra"
      ],
      "metadata": {
        "colab": {
          "base_uri": "https://localhost:8080/",
          "height": 37
        },
        "id": "nF0amHxkLgMy",
        "outputId": "6977d8e3-e68e-4e95-f23b-991008c7bc81"
      },
      "execution_count": null,
      "outputs": [
        {
          "output_type": "execute_result",
          "data": {
            "text/plain": [
              "2547373.93198572"
            ],
            "text/latex": "$\\displaystyle 2547373.93198572$"
          },
          "metadata": {},
          "execution_count": 42
        }
      ]
    },
    {
      "cell_type": "code",
      "source": [
        "#restar el desplazamiento de la tierra\n",
        "#la tierra tiene que estar por detras de marte en el momento del lanzamiento desde marte con un angulo de:\n",
        "Post = 255-180\n",
        "Post\n"
      ],
      "metadata": {
        "colab": {
          "base_uri": "https://localhost:8080/"
        },
        "id": "Yu2yQN3dL6N0",
        "outputId": "7a698a56-af2d-4d31-d81e-267dd3687c8f"
      },
      "execution_count": null,
      "outputs": [
        {
          "output_type": "execute_result",
          "data": {
            "text/plain": [
              "75"
            ]
          },
          "metadata": {},
          "execution_count": 43
        }
      ]
    },
    {
      "cell_type": "code",
      "source": [
        "#duracion del viaje completo\n",
        "\n",
        "t = 0\n",
        "pt = 0\n",
        "pm = 44.7\n",
        "tf = 258.9\n",
        "\n",
        "pt = grados_tierra\n",
        "pt\n",
        "#la posicion de marte es de 180 grados"
      ],
      "metadata": {
        "colab": {
          "base_uri": "https://localhost:8080/",
          "height": 37
        },
        "id": "jany_fOaNHTR",
        "outputId": "9b9a0387-f015-4b27-99dc-5401b81e39fb"
      },
      "execution_count": null,
      "outputs": [
        {
          "output_type": "execute_result",
          "data": {
            "text/plain": [
              "2547373.93198572"
            ],
            "text/latex": "$\\displaystyle 2547373.93198572$"
          },
          "metadata": {},
          "execution_count": 44
        }
      ]
    },
    {
      "cell_type": "code",
      "source": [
        "\n",
        "#calcular los dias que han de transcurrir para que la posicion de marte este adelantado 75 grados(1306)\n",
        "\n",
        "#definimos variabl\n",
        "\n",
        "import sympy as sp\n",
        "\n",
        "# Definimos las variables simbólicas\n",
        "delta_t = sp.Symbol('delta_t')  # tiempo de espera para iniciar el viaje de regreso\n",
        "P = sp.Symbol('P')  # periodo orbital de la Tierra\n",
        "omega_t = sp.Symbol('omega_t')  # velocidad angular de la Tierra\n",
        "omega_m = sp.Symbol('omega_m')  # velocidad angular de Marte\n",
        "n = 1  # número de vueltas completas (n = 1)\n",
        "\n",
        "# Fórmulas para las posiciones de la Tierra y Marte\n",
        "theta_t = omega_t * (P/2 + delta_t)  # posición de la Tierra\n",
        "theta_m = 0.780 + omega_m * (P/2 + delta_t)  # posición de Marte\n",
        "\n",
        "# Condición para iniciar el regreso\n",
        "condicion = sp.Eq(theta_m - 1.328 + n * 2 * sp.pi, theta_t)\n",
        "\n",
        "# Resolviendo para delta_t\n",
        "delta_t_sol = sp.solve(condicion, delta_t)[0]\n",
        "\n",
        "# Valores numéricos conocidos\n",
        "P_valor = 365.25  # periodo orbital de la Tierra en días\n",
        "omega_t_valor = 2 * sp.pi / P_valor  # velocidad angular de la Tierra en rad/día\n",
        "omega_m_valor = 2 * sp.pi / 687  # velocidad angular de Marte en rad/día\n",
        "\n",
        "# Evaluamos delta_t con los valores numéricos\n",
        "delta_t_evaluado = delta_t_sol.evalf(subs={P: P_valor, omega_t: omega_t_valor, omega_m: omega_m_valor})\n",
        "\n",
        "# Mostramos el resultado\n",
        "print(f\"El valor mínimo de Δt es {delta_t_evaluado} días\")\n",
        "\n",
        "# Calculamos el tiempo total del viaje\n",
        "viaje_ida = 258.9  # días\n",
        "estancia_en_marte = delta_t_evaluado  # el valor de delta_t calculado\n",
        "viaje_vuelta = 258.9  # días\n",
        "total_viaje = viaje_ida + estancia_en_marte + viaje_vuelta\n",
        "\n",
        "print(f\"El tiempo total del viaje es {total_viaje} días\")\n",
        "\n",
        "\n",
        "\n"
      ],
      "metadata": {
        "colab": {
          "base_uri": "https://localhost:8080/"
        },
        "id": "36Pp_l4HRme-",
        "outputId": "0c7c6589-f543-456b-8252-11aefc6deb45"
      },
      "execution_count": null,
      "outputs": [
        {
          "output_type": "stream",
          "name": "stdout",
          "text": [
            "El valor mínimo de Δt es 529.237298449624 días\n",
            "El tiempo total del viaje es 1047.03729844962 días\n"
          ]
        }
      ]
    },
    {
      "cell_type": "code",
      "source": [
        "import math\n",
        "#determinar velocidad de escape para salir de la esfera de influencia de la tierra\n",
        "# Constantes universales\n",
        "G = 6.67e-11  # Constante de gravitación universal en N·m²/kg²\n",
        "\n",
        "# Datos de la Tierra\n",
        "M_Tierra = 5.98e24  # Masa de la Tierra en kg\n",
        "R_Tierra = 6.37e6  # Radio de la Tierra en metros\n",
        "Re = 926.7e6  # Radio de la esfera de influencia de la Tierra en metros\n",
        "\n",
        "# Datos del Sol\n",
        "M_Sol = 1.98e30  # Masa del Sol en kg\n",
        "d_Tierra_Sol = 1.496e11  # Distancia entre la Tierra y el Sol en metros\n",
        "\n",
        "# Cálculo de las fuerzas gravitatorias\n",
        "# Fuerza que ejerce la Tierra FT sobre un objeto en el borde de la esfera de influencia\n",
        "FT = (G * M_Tierra) / (Re ** 2)\n",
        "\n",
        "# Fuerza que ejerce el Sol FS sobre un objeto a una distancia de (d_Tierra_Sol - Re)\n",
        "FS_izq = (G * M_Sol) / ((d_Tierra_Sol - Re) ** 2)\n",
        "\n",
        "# Fuerza que ejerce el Sol FS sobre un objeto a una distancia de (d_Tierra_Sol + Re)\n",
        "FS_der = (G * M_Sol) / ((d_Tierra_Sol + Re) ** 2)\n",
        "\n",
        "# Resultados de las fuerzas\n",
        "print(f\"Fuerza ejercida por la Tierra (FT) en el borde de la esfera de influencia: {FT:.2e} N\")\n",
        "print(f\"Fuerza ejercida por el Sol (FS) a la izquierda del objeto: {FS_izq:.2e} N\")\n",
        "print(f\"Fuerza ejercida por el Sol (FS) a la derecha del objeto: {FS_der:.2e} N\")\n",
        "\n",
        "# Cálculo de la velocidad de escape\n",
        "# 1/2 * m * v^2 - G * M_Tierra * m / R_Tierra = -G * M_Tierra * m / Re\n",
        "v_escape = math.sqrt(2 * G * M_Tierra * (1/R_Tierra - 1/Re))\n",
        "\n",
        "# Velocidad de escape aproximada desde la superficie de la Tierra\n",
        "v_aproximada = 11152.2  # en m/s\n",
        "\n",
        "# Resultados de la velocidad de escape\n",
        "print(f\"Velocidad de escape calculada (v_escape): {v_escape:.2f} m/s\")\n",
        "print(f\"Velocidad de escape aproximada: {v_aproximada:.2f} m/s\")\n"
      ],
      "metadata": {
        "colab": {
          "base_uri": "https://localhost:8080/"
        },
        "id": "I8TdRq3nd6YC",
        "outputId": "c853446a-54bd-4bbc-a68f-df96f9f756ec"
      },
      "execution_count": null,
      "outputs": [
        {
          "output_type": "stream",
          "name": "stdout",
          "text": [
            "Fuerza ejercida por la Tierra (FT) en el borde de la esfera de influencia: 4.64e-04 N\n",
            "Fuerza ejercida por el Sol (FS) a la izquierda del objeto: 5.97e-03 N\n",
            "Fuerza ejercida por el Sol (FS) a la derecha del objeto: 5.83e-03 N\n",
            "Velocidad de escape calculada (v_escape): 11152.21 m/s\n",
            "Velocidad de escape aproximada: 11152.20 m/s\n"
          ]
        }
      ]
    },
    {
      "cell_type": "code",
      "source": [
        "import math\n",
        "\n",
        "# Constantes universales\n",
        "G = 6.67e-11  # Constante de gravitación universal en N·m²/kg²\n",
        "\n",
        "# Datos de Marte\n",
        "M_Marte = 6.578e23  # Masa de Marte en kg\n",
        "R_Marte = 3.394e6  # Radio de Marte en metros\n",
        "Re_Marte = 584.1e6  # Radio de la esfera de influencia de Marte en metros\n",
        "\n",
        "# Datos del Sol\n",
        "M_Sol = 1.98e30  # Masa del Sol en kg\n",
        "d_Marte_Sol = 2.28e11  # Distancia entre Marte y el Sol en metros\n",
        "\n",
        "# Cálculo de las fuerzas gravitatorias\n",
        "# Fuerza que ejerce Marte FM sobre un objeto en el borde de la esfera de influencia\n",
        "FM = (G * M_Marte) / (Re_Marte ** 2)\n",
        "\n",
        "# Fuerza que ejerce el Sol FS sobre un objeto a una distancia de (d_Marte_Sol - Re_Marte)\n",
        "FS_izq = (G * M_Sol) / ((d_Marte_Sol - Re_Marte) ** 2)\n",
        "\n",
        "# Fuerza que ejerce el Sol FS sobre un objeto a una distancia de (d_Marte_Sol + Re_Marte)\n",
        "FS_der = (G * M_Sol) / ((d_Marte_Sol + Re_Marte) ** 2)\n",
        "\n",
        "# Resultados de las fuerzas\n",
        "print(f\"Fuerza ejercida por Marte (FM) en el borde de la esfera de influencia: {FM:.2e} N\")\n",
        "print(f\"Fuerza ejercida por el Sol (FS) a la izquierda del objeto: {FS_izq:.2e} N\")\n",
        "print(f\"Fuerza ejercida por el Sol (FS) a la derecha del objeto: {FS_der:.2e} N\")\n",
        "\n",
        "# Cálculo de la velocidad de escape\n",
        "# 1/2 * m * v^2 - G * M_Marte * m / R_Marte = -G * M_Marte * m / Re_Marte\n",
        "v_escape = math.sqrt(2 * G * M_Marte * (1/R_Marte - 1/Re_Marte))\n",
        "\n",
        "# Velocidad de escape aproximada desde la superficie de Marte\n",
        "v_aproximada = 5069.9  # en m/s\n",
        "\n",
        "# Resultados de la velocidad de escape\n",
        "print(f\"Velocidad de escape calculada (v_escape): {v_escape:.2f} m/s\")\n",
        "print(f\"Velocidad de escape aproximada: {v_aproximada:.2f} m/s\")\n"
      ],
      "metadata": {
        "id": "lRHFJtoAfDzT",
        "outputId": "a3d5664b-b39c-4256-feca-f7ac3e297b9a",
        "colab": {
          "base_uri": "https://localhost:8080/"
        }
      },
      "execution_count": null,
      "outputs": [
        {
          "output_type": "stream",
          "name": "stdout",
          "text": [
            "Fuerza ejercida por Marte (FM) en el borde de la esfera de influencia: 1.29e-04 N\n",
            "Fuerza ejercida por el Sol (FS) a la izquierda del objeto: 2.55e-03 N\n",
            "Fuerza ejercida por el Sol (FS) a la derecha del objeto: 2.53e-03 N\n",
            "Velocidad de escape calculada (v_escape): 5069.95 m/s\n",
            "Velocidad de escape aproximada: 5069.90 m/s\n"
          ]
        }
      ]
    },
    {
      "cell_type": "code",
      "source": [
        "#calcular la energia necesaria para completar el viaje\n",
        "v_escape = 11152.21\n",
        "v_escapem = 5069\n",
        "v2 = 21397.6\n",
        "#La velocidad que tenemos que proporcionar a la nave espacial para que llegue al borde de la esfera de influencia de la Tierra es de 11152.2 m/s\n",
        "\n",
        "#Cuando se lanza la nave espacial desde las proximidades del planeta Tierra y en la dirección de su movimiento orbital, hemos de incrementar la velocidad de la nave en\n",
        "vnave = vperihelio-vt\n",
        "vnave\n",
        "print(f\"incrementar la velocidad de la nave: {vnave:.2f} m/s\")\n",
        "#v1-vt=32742.7-29772.6=2971.1 m/s\n",
        "\n",
        "#En total tenemos un cambio de velocidad de Δv1=11152.2+2971.1=14123.3 m/s\n",
        "Δv1 = v_escape+vnave\n",
        "Δv1\n",
        "#La nave espacial llega a las proximidades de Marte con velocidad v2=21397.6 m/s. Sin embargo, la velocidad del planeta Marte es vm=24067.3 m/s algo mayor.  El cambio de velocidad es v2-vm=-2669.7 m/s. La nave espacial va más despacio, por delante del planeta y es capturado cuando llega a su esfera de influencia.\n",
        "v_cambio = v2-vm\n",
        "v_cambio\n",
        "print(f\"cambiar la velocidad de la nave en: {v_cambio:.2f} m/s\")\n",
        "\n",
        "#Como la velocidad de escape de la superficie de Marte es de 5069.9 m/s, el cambio de velocidad que los cohetes retropropulsores de la nave espacial tienen que realizar es de Δv2=5069.9-2669.7=2400.2 m/s para posar suavemente la nave en la superficie de Marte.\n",
        "Δv2 = v_escapem-v_cambio\n",
        "Δv2\n",
        "print(f\"el cambio de velocidad para aterrizar en marte es: {v_cambio:.2f} m/s\")\n",
        "#Los cohetes de la nave espacial tienen que proporcionar la energía para realizar, el cambio de velocidad para el viaje de ida y vuelta es  Δv=2(Δv1+Δv2)=2·16523.5=33047.0 m/s.\n",
        "Δv = 2*(Δv1+Δv2)\n",
        "Δv\n",
        "print(f\"el cambio de velocidad para el viaje es de: {Δv:.2f} m/s\")\n",
        "#Cuando la nave espacial desciende en las atmósferas de la Tierra y de Marte, puede disminuir su velocidad con la ayuda de la fuerza de fricción entre el vehículo y los gases de la atmósfera, reduciéndose la energía necesaria en estas dos etapas del vuelo."
      ],
      "metadata": {
        "colab": {
          "base_uri": "https://localhost:8080/"
        },
        "id": "B2UeDW-YVLCl",
        "outputId": "62b99046-03be-4665-a009-8e9f9577106d"
      },
      "execution_count": null,
      "outputs": [
        {
          "output_type": "stream",
          "name": "stdout",
          "text": [
            "incrementar la velocidad de la nave: 2971.06 m/s\n",
            "cambiar la velocidad de la nave en: -2669.74 m/s\n",
            "el cambio de velocidad para aterrizar en marte es: -2669.74 m/s\n",
            "el cambio de velocidad para el viaje es de: 43724.02 m/s\n"
          ]
        }
      ]
    }
  ]
}